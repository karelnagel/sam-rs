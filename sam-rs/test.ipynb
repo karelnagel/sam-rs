{
 "cells": [
  {
   "cell_type": "code",
   "execution_count": 28,
   "id": "2c712610",
   "metadata": {},
   "outputs": [],
   "source": [
    "from segment_anything.modeling.common import LayerNorm2d\n",
    "\n",
    "import pickle\n",
    "import torch\n",
    "import sys"
   ]
  },
  {
   "attachments": {},
   "cell_type": "markdown",
   "id": "7ad3bf14",
   "metadata": {},
   "source": [
    "# Setup\n",
    "### Hashing"
   ]
  },
  {
   "cell_type": "code",
   "execution_count": 29,
   "id": "90f807ef",
   "metadata": {},
   "outputs": [],
   "source": [
    "import hashlib\n",
    "\n",
    "def hash_tensor(tensor: torch.Tensor):\n",
    "    data = str(tensor.flatten().tolist())\n",
    "    return str(hashlib.md5(data.encode()).hexdigest())"
   ]
  },
  {
   "attachments": {},
   "cell_type": "markdown",
   "id": "0219b553",
   "metadata": {},
   "source": [
    "### Data formatting"
   ]
  },
  {
   "cell_type": "code",
   "execution_count": 30,
   "id": "04ec4816",
   "metadata": {},
   "outputs": [],
   "source": [
    "import json\n",
    "import os\n",
    "\n",
    "class Item:\n",
    "    def __init__(self, key, value, type):\n",
    "        self.key = key\n",
    "        self.type = type\n",
    "        if type == \"Tensor\":\n",
    "            self.value = {\"size\":value.size(),\"hash\":hash_tensor(value)}\n",
    "        else:\n",
    "            self.value = value\n",
    "\n",
    "    def to_dict(self):\n",
    "        return {self.key: {self.type: self.value}}\n",
    "\n",
    "\n",
    "def to_file(name:str,items:list):\n",
    "    path = \"test-files/\"+name+\".json\"\n",
    "    values = {}\n",
    "    for item in items:\n",
    "        values.update(item.to_dict())\n",
    "    output = {\"values\": values}\n",
    "    \n",
    "    data = json.dumps(output, indent=4)\n",
    "    os.makedirs(os.path.dirname(path), exist_ok=True)\n",
    "    with open(path, \"w\") as f:\n",
    "        f.write(data)\n"
   ]
  },
  {
   "attachments": {},
   "cell_type": "markdown",
   "id": "c0efaef2",
   "metadata": {},
   "source": [
    "## Common\n",
    "#### LayerNorm2d"
   ]
  },
  {
   "cell_type": "code",
   "execution_count": 32,
   "id": "5f813cbf",
   "metadata": {},
   "outputs": [],
   "source": [
    "layer_norm = LayerNorm2d(256,0.1)\n",
    "items = [Item(\"weight\", layer_norm.weight, \"Tensor\"), Item(\"bias\", layer_norm.bias, \"Tensor\"), Item(\"eps\", layer_norm.eps, \"Float\")]\n",
    "to_file(\"layer_norm_2d\",items)"
   ]
  }
 ],
 "metadata": {
  "kernelspec": {
   "display_name": "Python 3 (ipykernel)",
   "language": "python",
   "name": "python3"
  },
  "language_info": {
   "codemirror_mode": {
    "name": "ipython",
    "version": 3
   },
   "file_extension": ".py",
   "mimetype": "text/x-python",
   "name": "python",
   "nbconvert_exporter": "python",
   "pygments_lexer": "ipython3",
   "version": "3.10.9"
  }
 },
 "nbformat": 4,
 "nbformat_minor": 5
}
