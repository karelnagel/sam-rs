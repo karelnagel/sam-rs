{
 "cells": [
  {
   "cell_type": "code",
   "execution_count": 30,
   "id": "2c712610",
   "metadata": {},
   "outputs": [],
   "source": [
    "\n",
    "import pickle\n",
    "import torch\n",
    "import sys\n",
    "import torch\n",
    "from torch import nn"
   ]
  },
  {
   "attachments": {},
   "cell_type": "markdown",
   "id": "7ad3bf14",
   "metadata": {},
   "source": [
    "# Setup"
   ]
  },
  {
   "attachments": {},
   "cell_type": "markdown",
   "id": "0219b553",
   "metadata": {},
   "source": [
    "### Data formatting"
   ]
  },
  {
   "cell_type": "code",
   "execution_count": 31,
   "id": "04ec4816",
   "metadata": {},
   "outputs": [],
   "source": [
    "import json\n",
    "import os\n",
    "\n",
    "class Item:\n",
    "    def __init__(self, key, value, type:str):\n",
    "        self.key = key\n",
    "        self.type = type\n",
    "        if type.startswith(\"Tensor\"):\n",
    "            self.value = {\"size\":value.size(),\"values\":value.flatten().tolist()}\n",
    "        else:\n",
    "            self.value = value\n",
    "\n",
    "    def to_dict(self):\n",
    "        return {self.key: {self.type: self.value}}\n",
    "\n",
    "\n",
    "def to_file(name:str,items:list):\n",
    "    path = \"test-files/\"+name+\".json\"\n",
    "    values = {}\n",
    "    for item in items:\n",
    "        values.update(item.to_dict())\n",
    "    output = {\"values\": values}\n",
    "    \n",
    "    data = json.dumps(output, indent=4)\n",
    "    os.makedirs(os.path.dirname(path), exist_ok=True)\n",
    "    with open(path, \"w\") as f:\n",
    "        f.write(data)\n",
    "\n",
    "def random_tensor(shape:list,seed:int=0):\n",
    "    n = 1 \n",
    "    for dim in shape:\n",
    "        n*=dim\n",
    "\n",
    "    a = 3\n",
    "    c = 23\n",
    "    m = 2**32\n",
    "    \n",
    "    result = []\n",
    "    x = seed\n",
    "    for _ in range(n):\n",
    "        x = (a * x + c) % m\n",
    "        result.append(x / m)  # Normalize the result to [0, 1]\n",
    "\n",
    "    return torch.tensor(result).view(shape)\n"
   ]
  },
  {
   "attachments": {},
   "cell_type": "markdown",
   "id": "c0efaef2",
   "metadata": {},
   "source": [
    "## Common\n",
    "#### LayerNorm2d"
   ]
  },
  {
   "cell_type": "code",
   "execution_count": 32,
   "id": "5f813cbf",
   "metadata": {},
   "outputs": [],
   "source": [
    "from segment_anything.modeling.common import LayerNorm2d\n",
    "\n",
    "layer_norm = LayerNorm2d(256,0.1)\n",
    "items = [Item(\"weight\", layer_norm.weight, \"TensorFloat\"), Item(\"bias\", layer_norm.bias, \"TensorFloat\"), Item(\"eps\", layer_norm.eps, \"Float\")]\n",
    "to_file(\"layer_norm_2d\",items)\n",
    "\n",
    "# Forward\n",
    "input = random_tensor([2,256,16,16])\n",
    "output = layer_norm(input)\n",
    "items = [Item(\"input\", input, \"TensorFloat\"), Item(\"output\", output, \"TensorFloat\")]\n",
    "to_file(\"layer_norm_2d_forward\",items)"
   ]
  },
  {
   "attachments": {},
   "cell_type": "markdown",
   "id": "d6a99864",
   "metadata": {},
   "source": [
    "#### MLPBlock"
   ]
  },
  {
   "cell_type": "code",
   "execution_count": 33,
   "id": "c6867373",
   "metadata": {},
   "outputs": [],
   "source": [
    "from segment_anything.modeling.common import MLPBlock\n",
    "\n",
    "mlp_block = MLPBlock(256,256,nn.GELU)\n",
    "mlp_block.lin1.weight.data = random_tensor([256,256],1)\n",
    "mlp_block.lin2.weight.data = random_tensor([256,256],2)\n",
    "mlp_block.lin1.bias.data = random_tensor([256],3)\n",
    "mlp_block.lin2.bias.data = random_tensor([256],4)\n",
    "items=[Item(\"lin1\", mlp_block.lin1.weight, \"TensorFloat\"), Item(\"lin2\", mlp_block.lin2.weight, \"TensorFloat\")]\n",
    "to_file(\"mlp_block\",items)\n",
    "\n",
    "# Forward\n",
    "input = random_tensor([256,256],5)\n",
    "output = mlp_block(input)\n",
    "items = [Item(\"input\", input, \"TensorFloat\"), Item(\"output\", output, \"TensorFloat\")]\n",
    "to_file(\"mlp_block_forward\",items)"
   ]
  },
  {
   "attachments": {},
   "cell_type": "markdown",
   "id": "cad0ddd8",
   "metadata": {},
   "source": [
    "#### Activation"
   ]
  },
  {
   "cell_type": "code",
   "execution_count": 34,
   "id": "39781f0a",
   "metadata": {},
   "outputs": [],
   "source": [
    "# Gelu\n",
    "gelu = nn.GELU()\n",
    "input = random_tensor([256,256])\n",
    "output = gelu(input)\n",
    "items = [Item(\"input\", input, \"TensorFloat\"), Item(\"output\", output, \"TensorFloat\")]\n",
    "to_file(\"activation_gelu\",items)\n",
    "\n",
    "# ReLU\n",
    "relu = nn.ReLU()\n",
    "input = random_tensor([256,256])\n",
    "output = relu(input)\n",
    "items = [Item(\"input\", input, \"TensorFloat\"), Item(\"output\", output, \"TensorFloat\")]\n",
    "to_file(\"activation_relu\",items)\n"
   ]
  },
  {
   "attachments": {},
   "cell_type": "markdown",
   "id": "74fade84",
   "metadata": {},
   "source": [
    "# Image encoder"
   ]
  },
  {
   "attachments": {},
   "cell_type": "markdown",
   "id": "56f80aac",
   "metadata": {},
   "source": [
    "#### PatchEmbeded"
   ]
  },
  {
   "cell_type": "code",
   "execution_count": 35,
   "id": "08dd2d6a",
   "metadata": {},
   "outputs": [],
   "source": [
    "from segment_anything.modeling.image_encoder import PatchEmbed\n",
    "\n",
    "patch_embed = PatchEmbed((16,16),(16,16),(0,0),3,768)\n",
    "patch_embed.proj.weight.data = random_tensor([2,256,16,16],1)\n",
    "patch_embed.proj.bias.data = random_tensor([2],2)\n",
    "items=[Item(\"weight\", patch_embed.proj.weight, \"TensorFloat\"),Item(\"bias\", patch_embed.proj.bias, \"TensorFloat\")]\n",
    "to_file(\"patch_embed\",items)\n",
    "\n",
    "# Forward\n",
    "input = random_tensor([2,256,16,16],3)\n",
    "output = patch_embed(input)\n",
    "items = [Item(\"input\", input, \"TensorFloat\"), Item(\"output\", output, \"TensorFloat\")]\n",
    "to_file(\"patch_embed_forward\",items)\n"
   ]
  },
  {
   "attachments": {},
   "cell_type": "markdown",
   "id": "7f413326",
   "metadata": {},
   "source": [
    "#### Block"
   ]
  },
  {
   "cell_type": "code",
   "execution_count": 36,
   "id": "7d09b671",
   "metadata": {},
   "outputs": [
    {
     "name": "stdout",
     "output_type": "stream",
     "text": [
      "torch.Size([400, 196, 80]) torch.Size([400, 196, 80]) torch.Size([400, 196, 80])\n",
      "torch.Size([400, 196, 80]) torch.Size([400, 80, 196])\n"
     ]
    }
   ],
   "source": [
    "from segment_anything.modeling.image_encoder import  window_partition,window_unpartition\n",
    "\n",
    "# Window partition\n",
    "input = random_tensor([2,256,16,16],1)\n",
    "output,size = window_partition(input,16)\n",
    "items = [Item(\"input\", input, \"TensorFloat\"), Item(\"output\", output, \"TensorFloat\"), Item(\"size\", size, \"Size\")]\n",
    "to_file(\"window_partition\",items)\n",
    "\n",
    "# Window unpartition\n",
    "input = random_tensor([2,256,16,16],2)\n",
    "output = window_unpartition(input,16,(16,16),(14,14))\n",
    "items = [Item(\"input\", input, \"TensorFloat\"), Item(\"output\", output, \"TensorFloat\")]\n",
    "to_file(\"window_unpartition\",items)"
   ]
  },
  {
   "cell_type": "code",
   "execution_count": 53,
   "id": "5ba0e9dc",
   "metadata": {},
   "outputs": [
    {
     "name": "stdout",
     "output_type": "stream",
     "text": [
      "torch.Size([400, 196, 80]) torch.Size([400, 196, 80]) torch.Size([400, 196, 80])\n",
      "torch.Size([400, 196, 80]) torch.Size([400, 80, 196])\n"
     ]
    }
   ],
   "source": [
    "from segment_anything.modeling.image_encoder import Block\n",
    "\n",
    "#Block\n",
    "block = Block(1280,16,4.0,True,nn.LayerNorm,nn.GELU,True,True,14,(64,64))\n",
    "items=[Item(\"window_size\", block.window_size, \"Int\")]\n",
    "to_file(\"block\",items)\n",
    "\n",
    "#Forward\n",
    "input = random_tensor([1,64,64,1280],1)\n",
    "block.norm1.weight.data = random_tensor([1280],2)\n",
    "block.norm1.bias.data = random_tensor([1280],3)\n",
    "block.norm2.weight.data = random_tensor([1280],4)\n",
    "block.norm2.bias.data = random_tensor([1280],5)\n",
    "block.attn.qkv.weight.data = random_tensor([3840,1280],6)\n",
    "block.attn.qkv.bias.data = random_tensor([3840],7)\n",
    "block.attn.proj.weight.data = random_tensor([1280,1280],8)\n",
    "block.attn.proj.bias.data = random_tensor([1280],9)\n",
    "block.mlp.lin1.weight.data = random_tensor([5120,1280],10)\n",
    "block.mlp.lin1.bias.data = random_tensor([5120],11)\n",
    "block.mlp.lin2.weight.data = random_tensor([1280,5120],12)\n",
    "block.mlp.lin2.bias.data = random_tensor([1280],13)\n",
    "output = block(input)\n",
    "items = [Item(\"input\", input, \"TensorFloat\"), Item(\"output\", output, \"TensorFloat\")]\n",
    "to_file(\"block_forward\",items)"
   ]
  },
  {
   "attachments": {},
   "cell_type": "markdown",
   "id": "312867d4",
   "metadata": {},
   "source": [
    "#### Attention"
   ]
  },
  {
   "cell_type": "code",
   "execution_count": 37,
   "id": "487ac328",
   "metadata": {},
   "outputs": [],
   "source": [
    "from segment_anything.modeling.image_encoder import get_rel_pos,add_decomposed_rel_pos\n",
    "\n",
    "# Get rel pos\n",
    "q_size = 64\n",
    "k_size = 64\n",
    "input = random_tensor([127,80],1)\n",
    "output = get_rel_pos( q_size, k_size, input)\n",
    "items = [Item(\"input\",input,\"TensorFloat\"),Item(\"output\", output, \"TensorFloat\")]\n",
    "to_file(\"get_rel_pos\",items)\n",
    "\n",
    "# Add decomposed rel pos\n",
    "attn = random_tensor([400,196,196],2)\n",
    "q = random_tensor([400,196,80],3)\n",
    "relo_pos_h = random_tensor([27,80],4)\n",
    "relo_pos_w = random_tensor([27,80],5)\n",
    "q_size = (14,14)\n",
    "k_size = (14,14)\n",
    "rel_pos = add_decomposed_rel_pos(attn,q,relo_pos_h,relo_pos_w,q_size,k_size)\n",
    "items = [Item(\"attn\", attn, \"TensorFloat\"), Item(\"q\", q, \"TensorFloat\"), Item(\"q_size\", q_size, \"Size\"), Item(\"k_size\", k_size, \"Size\"), Item(\"output\", rel_pos, \"TensorFloat\")]\n",
    "to_file(\"add_decomposed_rel_pos\",items)"
   ]
  },
  {
   "cell_type": "code",
   "execution_count": 38,
   "id": "57536f00",
   "metadata": {},
   "outputs": [
    {
     "name": "stdout",
     "output_type": "stream",
     "text": [
      "torch.Size([400, 196, 80]) torch.Size([400, 196, 80]) torch.Size([400, 196, 80])\n",
      "torch.Size([400, 196, 80]) torch.Size([400, 80, 196])\n"
     ]
    }
   ],
   "source": [
    "from segment_anything.modeling.image_encoder import Attention\n",
    "\n",
    "# Attention\n",
    "attention = Attention(1280, 16 ,True ,True ,True, (14, 14))\n",
    "items =[Item(\"num_heads\", attention.num_heads, \"Int\"), Item(\"scale\", attention.scale, \"Float\"),  Item(\"use_rel_pos\", attention.use_rel_pos, \"Bool\")]\n",
    "to_file(\"attention\",items)\n",
    "\n",
    "# Forward\n",
    "input = random_tensor([25,14,14,1280],1)\n",
    "attention.qkv.weight.data = random_tensor([3840,1280],2)\n",
    "attention.qkv.bias.data = random_tensor([3840],3)\n",
    "attention.proj.weight.data = random_tensor([1280,1280],4)\n",
    "attention.proj.bias.data = random_tensor([1280],5)\n",
    "output = attention(input)\n",
    "items = [Item(\"input\", input, \"TensorFloat\"), Item(\"output\", output, \"TensorFloat\")]\n",
    "to_file(\"attention_forward\",items)"
   ]
  }
 ],
 "metadata": {
  "kernelspec": {
   "display_name": "Python 3 (ipykernel)",
   "language": "python",
   "name": "python3"
  },
  "language_info": {
   "codemirror_mode": {
    "name": "ipython",
    "version": 3
   },
   "file_extension": ".py",
   "mimetype": "text/x-python",
   "name": "python",
   "nbconvert_exporter": "python",
   "pygments_lexer": "ipython3",
   "version": "3.9.16"
  }
 },
 "nbformat": 4,
 "nbformat_minor": 5
}
