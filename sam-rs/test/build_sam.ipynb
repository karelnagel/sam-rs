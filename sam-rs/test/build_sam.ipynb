{
 "cells": [
  {
   "cell_type": "code",
   "execution_count": 2,
   "id": "2c712610",
   "metadata": {},
   "outputs": [],
   "source": [
    "from segment_anything import  build_sam_vit_b,build_sam_vit_h, build_sam_vit_l\n",
    "import pickle\n",
    "import torch"
   ]
  },
  {
   "cell_type": "code",
   "execution_count": 28,
   "id": "11bfc8aa",
   "metadata": {},
   "outputs": [
    {
     "name": "stdout",
     "output_type": "stream",
     "text": [
      "[3, 2][1.0, 2.0, 3.0, 4.0, 5.0, 6.0]\n",
      "7a63c9e1a171d72dd689c28968e548f8b05905838aee55844ac6d25beeb80d2d\n"
     ]
    }
   ],
   "source": [
    "sam = build_sam_vit_h()\n",
    "import hashlib\n",
    "\n",
    "# Create a tensor in PyTorch (Python)\n",
    "tensor = torch.tensor([[1.0, 2.0], [3.0, 4.000000000000], [5.0,6.0]])\n",
    "def hash_tensor(tensor: torch.Tensor):\n",
    "    size = str(list(tensor.size()))\n",
    "    elements = str(tensor.flatten().tolist())\n",
    "    value = size + elements\n",
    "    print(value)\n",
    "    hash = hashlib.sha256(value.encode()).hexdigest()\n",
    "    return hash\n",
    "print(hash_tensor(tensor))"
   ]
  },
  {
   "cell_type": "code",
   "execution_count": null,
   "id": "9b2bf09b",
   "metadata": {},
   "outputs": [],
   "source": [
    "sam = build_sam_vit_b()\n",
    "\n",
    "# Save the instance to a file using pickle\n",
    "with open('pickle/sam_vit_b.pkl', 'wb') as file:\n",
    "    pickle.dump(sam, file)"
   ]
  },
  {
   "cell_type": "code",
   "execution_count": null,
   "id": "8a30ec55",
   "metadata": {},
   "outputs": [],
   "source": [
    "sam = build_sam_vit_l()\n",
    "\n",
    "# Save the instance to a file using pickle\n",
    "with open('pickle/sam_vit_l.pkl', 'wb') as file:\n",
    "    pickle.dump(sam, file)"
   ]
  }
 ],
 "metadata": {
  "kernelspec": {
   "display_name": "Python 3 (ipykernel)",
   "language": "python",
   "name": "python3"
  },
  "language_info": {
   "codemirror_mode": {
    "name": "ipython",
    "version": 3
   },
   "file_extension": ".py",
   "mimetype": "text/x-python",
   "name": "python",
   "nbconvert_exporter": "python",
   "pygments_lexer": "ipython3",
   "version": "3.10.9"
  }
 },
 "nbformat": 4,
 "nbformat_minor": 5
}
