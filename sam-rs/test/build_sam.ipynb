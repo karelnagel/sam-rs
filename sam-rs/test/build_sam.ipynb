{
 "cells": [
  {
   "cell_type": "code",
   "execution_count": 2,
   "id": "2c712610",
   "metadata": {},
   "outputs": [],
   "source": [
    "from segment_anything import  build_sam_vit_b,build_sam_vit_h, build_sam_vit_l\n",
    "import pickle\n",
    "import torch"
   ]
  },
  {
   "cell_type": "code",
   "execution_count": 7,
   "id": "11bfc8aa",
   "metadata": {},
   "outputs": [],
   "source": [
    "sam = build_sam_vit_h()\n",
    "\n",
    "tensor = torch.tensor([[1.0, 2.0], [3.0, 4.0]])\n",
    "torch.save(tensor, 'tensor.pt',pickle_protocol=2)"
   ]
  },
  {
   "cell_type": "code",
   "execution_count": null,
   "id": "9b2bf09b",
   "metadata": {},
   "outputs": [],
   "source": [
    "sam = build_sam_vit_b()\n",
    "\n",
    "# Save the instance to a file using pickle\n",
    "with open('pickle/sam_vit_b.pkl', 'wb') as file:\n",
    "    pickle.dump(sam, file)"
   ]
  },
  {
   "cell_type": "code",
   "execution_count": null,
   "id": "8a30ec55",
   "metadata": {},
   "outputs": [],
   "source": [
    "sam = build_sam_vit_l()\n",
    "\n",
    "# Save the instance to a file using pickle\n",
    "with open('pickle/sam_vit_l.pkl', 'wb') as file:\n",
    "    pickle.dump(sam, file)"
   ]
  }
 ],
 "metadata": {
  "kernelspec": {
   "display_name": "Python 3 (ipykernel)",
   "language": "python",
   "name": "python3"
  },
  "language_info": {
   "codemirror_mode": {
    "name": "ipython",
    "version": 3
   },
   "file_extension": ".py",
   "mimetype": "text/x-python",
   "name": "python",
   "nbconvert_exporter": "python",
   "pygments_lexer": "ipython3",
   "version": "3.10.9"
  }
 },
 "nbformat": 4,
 "nbformat_minor": 5
}
